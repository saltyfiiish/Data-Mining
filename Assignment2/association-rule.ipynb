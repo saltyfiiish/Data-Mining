{
 "cells": [
  {
   "cell_type": "markdown",
   "id": "4ef96603",
   "metadata": {},
   "source": [
    "1. Load Dataset"
   ]
  },
  {
   "cell_type": "code",
   "execution_count": null,
   "id": "b37cc1ac",
   "metadata": {},
   "outputs": [],
   "source": [
    "import pandas as pd\n",
    "import numpy as np"
   ]
  },
  {
   "cell_type": "markdown",
   "id": "f4be939f",
   "metadata": {},
   "source": [
    "Dataset: Retail"
   ]
  },
  {
   "cell_type": "code",
   "execution_count": 112,
   "id": "2560a0c3",
   "metadata": {},
   "outputs": [],
   "source": [
    "retail_df = pd.read_csv(\"retail.csv\")\n",
    "retail_df[\"Products\"] = retail_df[\"Products\"].astype(str)\n",
    "transactions = {} \n",
    "transactions[\"retail\"] = [x.strip().split(\",\") for x in retail_df[\"Products\"]]"
   ]
  },
  {
   "cell_type": "markdown",
   "id": "430785cf",
   "metadata": {},
   "source": [
    "Dataset: Basket"
   ]
  },
  {
   "cell_type": "code",
   "execution_count": 113,
   "id": "6bcd03fd",
   "metadata": {},
   "outputs": [],
   "source": [
    "basket_df = pd.read_csv(\"basket.csv\", header=None)\n",
    "transactions[\"basket\"] = (\n",
    "    basket_df\n",
    "    .apply(lambda x: [str(i).strip() for i in x.dropna() if str(i).strip() != \"\"], axis=1)\n",
    "    .tolist()\n",
    ")"
   ]
  },
  {
   "cell_type": "markdown",
   "id": "a68bdce8",
   "metadata": {},
   "source": [
    "Dataset: Groceries"
   ]
  },
  {
   "cell_type": "code",
   "execution_count": 126,
   "id": "5bb34f0e",
   "metadata": {},
   "outputs": [],
   "source": [
    "gro_df = pd.read_csv(\"Groceries_transactions.csv\")\n",
    "gro_df[\"itemDescription\"] = gro_df[\"itemDescription\"].astype(str)\n",
    "transactions[\"groceries\"] = [x.strip().split(\",\") for x in gro_df[\"itemDescription\"]]"
   ]
  },
  {
   "cell_type": "markdown",
   "id": "51c82d79",
   "metadata": {},
   "source": [
    "Dataset: Market Basket Optimisation"
   ]
  },
  {
   "cell_type": "code",
   "execution_count": 118,
   "id": "7819351e",
   "metadata": {},
   "outputs": [],
   "source": [
    "market_df = pd.read_csv(\"Market_Basket_Optimisation.csv\", header=None)\n",
    "transactions[\"market\"] = market_df.apply(lambda x: [i for i in x.dropna().astype(str)], axis=1).tolist()"
   ]
  },
  {
   "cell_type": "code",
   "execution_count": 119,
   "id": "b51f1160",
   "metadata": {},
   "outputs": [
    {
     "name": "stdout",
     "output_type": "stream",
     "text": [
      "retail dataset:\n",
      "  Number of transactions: 30000\n",
      "  Avg items per transaction: 6.58\n",
      "  Example: ['Dish Sponge', ' Flatbread with Meat', ' Chips', ' Orange', ' Butter']\n",
      "------------------------------------------------------------\n",
      "basket dataset:\n",
      "  Number of transactions: 14963\n",
      "  Avg items per transaction: 2.59\n",
      "  Example: ['whole milk', 'pastry', 'salty snack']\n",
      "------------------------------------------------------------\n",
      "groceries dataset:\n",
      "  Number of transactions: 3898\n",
      "  Avg items per transaction: 8.92\n",
      "  Example: ['canned beer', ' hygiene articles', ' misc. beverages', ' pastry', ' pickled vegetables']\n",
      "------------------------------------------------------------\n",
      "market dataset:\n",
      "  Number of transactions: 7501\n",
      "  Avg items per transaction: 3.91\n",
      "  Example: ['shrimp', 'almonds', 'avocado', 'vegetables mix', 'green grapes']\n",
      "------------------------------------------------------------\n"
     ]
    }
   ],
   "source": [
    "for name, trans in transactions.items():\n",
    "    print(f\"{name} dataset:\")\n",
    "    print(f\"  Number of transactions: {len(trans)}\")\n",
    "    print(f\"  Avg items per transaction: {np.mean([len(t) for t in trans]):.2f}\")\n",
    "    print(f\"  Example: {trans[0][:5]}\")\n",
    "    print(\"-\"*60)"
   ]
  },
  {
   "cell_type": "markdown",
   "id": "b85213a4",
   "metadata": {},
   "source": [
    "2. Apriori"
   ]
  },
  {
   "cell_type": "code",
   "execution_count": 120,
   "id": "d5cb98f7",
   "metadata": {},
   "outputs": [],
   "source": [
    "import time\n",
    "import pandas as pd\n",
    "from apriori import runApriori\n",
    "from itertools import islice"
   ]
  },
  {
   "cell_type": "code",
   "execution_count": 122,
   "id": "641df8db",
   "metadata": {},
   "outputs": [],
   "source": [
    "def subset_transactions(transactions, T):\n",
    "    return list(islice(transactions, T))\n",
    "\n",
    "def run_apriori_experiment(transactions, min_sup, min_conf):\n",
    "    \n",
    "    transactions_iter = (frozenset(t) for t in transactions)\n",
    "\n",
    "    start = time.time()\n",
    "    items, rules = runApriori(transactions_iter,\n",
    "                              minSupport=min_sup,\n",
    "                              minConfidence=min_conf)\n",
    "    elapsed = time.time() - start\n",
    "\n",
    "    num_itemsets = len(items)\n",
    "    num_rules = len(rules)\n",
    "    print(f\"{len(transactions)} transactions processed \"\n",
    "          f\"in {elapsed:.4f}s | {num_itemsets} frequent sets | {num_rules} rules\")\n",
    "\n",
    "    return elapsed, num_itemsets, num_rules"
   ]
  },
  {
   "cell_type": "markdown",
   "id": "27aaad04",
   "metadata": {},
   "source": [
    "Retail"
   ]
  },
  {
   "cell_type": "code",
   "execution_count": 123,
   "id": "68155b0e",
   "metadata": {},
   "outputs": [
    {
     "name": "stdout",
     "output_type": "stream",
     "text": [
      "500 transactions processed in 0.7279s | 1027 frequent sets | 80 rules\n",
      "1000 transactions processed in 1.0694s | 889 frequent sets | 24 rules\n",
      "2000 transactions processed in 1.8376s | 878 frequent sets | 17 rules\n",
      "4000 transactions processed in 4.0517s | 893 frequent sets | 33 rules\n",
      "8000 transactions processed in 9.9084s | 892 frequent sets | 33 rules\n",
      "16000 transactions processed in 24.9069s | 894 frequent sets | 35 rules\n",
      "30000 transactions processed in 49.7681s | 896 frequent sets | 37 rules\n",
      "\n",
      " Experiment Summary \n",
      " Transactions  Time (s)  Frequent Itemsets  Rules\n",
      "          500  0.727930               1027     80\n",
      "         1000  1.069374                889     24\n",
      "         2000  1.837647                878     17\n",
      "         4000  4.051708                893     33\n",
      "         8000  9.908392                892     33\n",
      "        16000 24.906864                894     35\n",
      "        30000 49.768091                896     37\n"
     ]
    }
   ],
   "source": [
    "transaction_sizes = [500, 1000, 2000, 4000, 8000, 16000, 30000]\n",
    "min_support = 0.01\n",
    "min_confidence = 0.5\n",
    "\n",
    "\n",
    "dataset_name = \"retail\"\n",
    "transactions_all = transactions[dataset_name]\n",
    "\n",
    "results = []\n",
    "\n",
    "for T in transaction_sizes:\n",
    "    subset = subset_transactions(transactions_all, T)\n",
    "    elapsed, num_freq, num_rules = run_apriori_experiment(\n",
    "        subset, min_sup=min_support, min_conf=min_confidence)\n",
    "    results.append({\n",
    "        \"Transactions\": T,\n",
    "        \"Time (s)\": elapsed,\n",
    "        \"Frequent Itemsets\": num_freq,\n",
    "        \"Rules\": num_rules\n",
    "    })\n",
    "\n",
    "# Display results\n",
    "results_df = pd.DataFrame(results)\n",
    "print(\"\\n Experiment Summary \")\n",
    "print(results_df.to_string(index=False))"
   ]
  },
  {
   "cell_type": "markdown",
   "id": "bb601f92",
   "metadata": {},
   "source": [
    "Basket"
   ]
  },
  {
   "cell_type": "code",
   "execution_count": 131,
   "id": "336b69f5",
   "metadata": {},
   "outputs": [
    {
     "name": "stdout",
     "output_type": "stream",
     "text": [
      "500 transactions processed in 0.0802s | 98 frequent sets | 1 rules\n",
      "1000 transactions processed in 0.1352s | 77 frequent sets | 0 rules\n",
      "2000 transactions processed in 0.3021s | 81 frequent sets | 0 rules\n",
      "4000 transactions processed in 0.5157s | 69 frequent sets | 0 rules\n",
      "8000 transactions processed in 1.0058s | 69 frequent sets | 0 rules\n",
      "14963 transactions processed in 2.1514s | 69 frequent sets | 0 rules\n",
      "\n",
      " Experiment Summary \n",
      " Transactions  Time (s)  Frequent Itemsets  Rules\n",
      "          500  0.080199                 98      1\n",
      "         1000  0.135221                 77      0\n",
      "         2000  0.302070                 81      0\n",
      "         4000  0.515723                 69      0\n",
      "         8000  1.005812                 69      0\n",
      "        14963  2.151399                 69      0\n"
     ]
    }
   ],
   "source": [
    "transaction_sizes = [500, 1000, 2000, 4000, 8000, 14963]\n",
    "min_support = 0.01\n",
    "min_confidence = 0.5\n",
    "\n",
    "\n",
    "dataset_name = \"basket\"\n",
    "transactions_all = transactions[dataset_name]\n",
    "\n",
    "results = []\n",
    "\n",
    "for T in transaction_sizes:\n",
    "    subset = subset_transactions(transactions_all, T)\n",
    "    elapsed, num_freq, num_rules = run_apriori_experiment(\n",
    "        subset, min_sup=min_support, min_conf=min_confidence)\n",
    "    results.append({\n",
    "        \"Transactions\": T,\n",
    "        \"Time (s)\": elapsed,\n",
    "        \"Frequent Itemsets\": num_freq,\n",
    "        \"Rules\": num_rules\n",
    "    })\n",
    "\n",
    "# Display results\n",
    "results_df = pd.DataFrame(results)\n",
    "print(\"\\n Experiment Summary \")\n",
    "print(results_df.to_string(index=False))"
   ]
  },
  {
   "cell_type": "markdown",
   "id": "326ffb5d",
   "metadata": {},
   "source": [
    "Groceries"
   ]
  },
  {
   "cell_type": "code",
   "execution_count": 130,
   "id": "d5542a5b",
   "metadata": {},
   "outputs": [
    {
     "name": "stdout",
     "output_type": "stream",
     "text": [
      "500 transactions processed in 4.8770s | 3978 frequent sets | 3578 rules\n",
      "1000 transactions processed in 5.0747s | 2941 frequent sets | 1501 rules\n",
      "2000 transactions processed in 9.3690s | 2659 frequent sets | 1151 rules\n",
      "3898 transactions processed in 17.6389s | 2514 frequent sets | 955 rules\n",
      "\n",
      " Experiment Summary \n",
      " Transactions  Time (s)  Frequent Itemsets  Rules\n",
      "          500  4.877013               3978   3578\n",
      "         1000  5.074657               2941   1501\n",
      "         2000  9.369029               2659   1151\n",
      "         3898 17.638914               2514    955\n"
     ]
    }
   ],
   "source": [
    "transaction_sizes = [500, 1000, 2000, 3898]\n",
    "min_support = 0.01\n",
    "min_confidence = 0.5\n",
    "\n",
    "\n",
    "dataset_name = \"groceries\"\n",
    "transactions_all = transactions[dataset_name]\n",
    "\n",
    "results = []\n",
    "\n",
    "for T in transaction_sizes:\n",
    "    subset = subset_transactions(transactions_all, T)\n",
    "    elapsed, num_freq, num_rules = run_apriori_experiment(\n",
    "        subset, min_sup=min_support, min_conf=min_confidence)\n",
    "    results.append({\n",
    "        \"Transactions\": T,\n",
    "        \"Time (s)\": elapsed,\n",
    "        \"Frequent Itemsets\": num_freq,\n",
    "        \"Rules\": num_rules\n",
    "    })\n",
    "\n",
    "# Display results\n",
    "results_df = pd.DataFrame(results)\n",
    "print(\"\\n Experiment Summary \")\n",
    "print(results_df.to_string(index=False))"
   ]
  },
  {
   "cell_type": "markdown",
   "id": "dbcbe2a7",
   "metadata": {},
   "source": [
    "Market"
   ]
  },
  {
   "cell_type": "code",
   "execution_count": 51,
   "id": "61bb64cf",
   "metadata": {},
   "outputs": [
    {
     "name": "stdout",
     "output_type": "stream",
     "text": [
      "500 transactions processed in 0.2960s | 357 frequent sets | 112 rules\n",
      "1000 transactions processed in 0.6117s | 350 frequent sets | 20 rules\n",
      "2000 transactions processed in 0.9118s | 293 frequent sets | 8 rules\n",
      "4000 transactions processed in 2.0938s | 302 frequent sets | 3 rules\n",
      "7501 transactions processed in 3.9909s | 257 frequent sets | 2 rules\n",
      "\n",
      " Experiment Summary \n",
      " Transactions  Time (s)  Frequent Itemsets  Rules\n",
      "          500  0.295972                357    112\n",
      "         1000  0.611733                350     20\n",
      "         2000  0.911849                293      8\n",
      "         4000  2.093813                302      3\n",
      "         7501  3.990889                257      2\n"
     ]
    }
   ],
   "source": [
    "transaction_sizes = [500, 1000, 2000, 4000, 7501]\n",
    "min_support = 0.01\n",
    "min_confidence = 0.5\n",
    "\n",
    "\n",
    "dataset_name = \"market\"\n",
    "transactions_all = transactions[dataset_name]\n",
    "\n",
    "results = []\n",
    "\n",
    "for T in transaction_sizes:\n",
    "    subset = subset_transactions(transactions_all, T)\n",
    "    elapsed, num_freq, num_rules = run_apriori_experiment(\n",
    "        subset, min_sup=min_support, min_conf=min_confidence)\n",
    "    results.append({\n",
    "        \"Transactions\": T,\n",
    "        \"Time (s)\": elapsed,\n",
    "        \"Frequent Itemsets\": num_freq,\n",
    "        \"Rules\": num_rules\n",
    "    })\n",
    "\n",
    "# Display results\n",
    "results_df = pd.DataFrame(results)\n",
    "print(\"\\n Experiment Summary \")\n",
    "print(results_df.to_string(index=False))"
   ]
  },
  {
   "cell_type": "markdown",
   "id": "17a8b156",
   "metadata": {},
   "source": [
    "3. Brute-force approach"
   ]
  },
  {
   "cell_type": "code",
   "execution_count": null,
   "id": "bcdf628b",
   "metadata": {},
   "outputs": [],
   "source": [
    "import random, itertools, time\n",
    "\n",
    "def brute_force_freq(transactions, items_subset):\n",
    "    m = len(items_subset)\n",
    "    t0 = time.time()\n",
    "    counts = {}\n",
    "    for r in range(1, m+1):\n",
    "        for comb in itertools.combinations(items_subset, r):\n",
    "            comb_set = set(comb)\n",
    "            cnt = sum(1 for tr in transactions if comb_set.issubset(tr))\n",
    "            counts[comb] = cnt\n",
    "    t1 = time.time()\n",
    "    return counts, t1-t0"
   ]
  },
  {
   "cell_type": "code",
   "execution_count": 129,
   "id": "ee7616fd",
   "metadata": {},
   "outputs": [
    {
     "name": "stdout",
     "output_type": "stream",
     "text": [
      "Retail distinct items: 40\n",
      "Basket distinct items: 167\n",
      "Groceries distinct items: 167\n",
      "Market distinct items: 115\n"
     ]
    }
   ],
   "source": [
    "retail_items = set()\n",
    "for row in retail_df[\"Products\"].astype(str):\n",
    "    for item in row.split(\",\"):\n",
    "        retail_items.add(item.strip())\n",
    "\n",
    "print(\"Retail distinct items:\", len(retail_items))\n",
    "\n",
    "basket_items = set()\n",
    "for _, row in basket_df.iterrows():\n",
    "    for item in row.dropna():\n",
    "        basket_items.add(str(item).strip())\n",
    "\n",
    "print(\"Basket distinct items:\", len(basket_items))\n",
    "\n",
    "groceries_items = set()\n",
    "for row in gro_df[\"itemDescription\"]:\n",
    "    for item in row.split(\",\"):\n",
    "        groceries_items.add(item.strip())\n",
    "\n",
    "print(\"Groceries distinct items:\", len(groceries_items))\n",
    "\n",
    "market_items = set()\n",
    "for row in market_df[0].astype(str):\n",
    "    for item in row.split(\",\"):\n",
    "        market_items.add(item.strip())\n",
    "\n",
    "print(\"Market distinct items:\", len(market_items))\n",
    "\n",
    "dataset_items = {\n",
    "    \"retail\": retail_items,\n",
    "    \"basket\": basket_items,\n",
    "    \"groceries\": groceries_items,\n",
    "    \"market\": market_items\n",
    "}\n"
   ]
  },
  {
   "cell_type": "markdown",
   "id": "72f95eda",
   "metadata": {},
   "source": [
    "Retail"
   ]
  },
  {
   "cell_type": "code",
   "execution_count": 60,
   "id": "b394262a",
   "metadata": {},
   "outputs": [
    {
     "name": "stdout",
     "output_type": "stream",
     "text": [
      "Measured elapsed=2.9179s for m0=10, c=2.850e-03\n",
      "Retail estimated brute-force time: 3.13e+09 seconds\n",
      "Estimated Brute-force times for different transaction sizes (Retail):\n",
      "\n",
      "   500 transactions → 1.66years\n",
      "  1000 transactions → 3.31years\n",
      "  2000 transactions → 6.62years\n",
      "  4000 transactions → 13.25years\n",
      "  8000 transactions → 26.49years\n",
      " 16000 transactions → 52.99years\n",
      " 30000 transactions → 99.35years\n"
     ]
    }
   ],
   "source": [
    "sample_items = random.sample(list(retail_items), 10)\n",
    "transactions = [set(x.split(\",\")) for x in retail_df[\"Products\"].astype(str)]\n",
    "\n",
    "counts, elapsed = brute_force_freq(transactions, sample_items)\n",
    "c = elapsed / (2 ** len(sample_items))\n",
    "print(f\"Measured elapsed={elapsed:.4f}s for m0={len(sample_items)}, c={c:.3e}\")\n",
    "\n",
    "T_est = c * (2 ** len(dataset_items['retail']))\n",
    "\n",
    "print(f\"Retail estimated brute-force time: {T_est:.2e} seconds\")\n",
    "\n",
    "transaction_sizes = [500, 1000, 2000, 4000, 8000, 16000, 30000]\n",
    "c_base = c \n",
    "n_base = len(retail_df) \n",
    "m_retail = len(retail_items)\n",
    "\n",
    "def seconds_to_readable(s):\n",
    "    if s < 60: return f\"{s:.2f}s\"\n",
    "    m = s / 60\n",
    "    if m < 60: return f\"{m:.2f}min\"\n",
    "    h = m / 60\n",
    "    if h < 24: return f\"{h:.2f}h\"\n",
    "    d = h / 24\n",
    "    if d < 365: return f\"{d:.2f}days\"\n",
    "    return f\"{d/365:.2f}years\"\n",
    "\n",
    "print(\"Estimated Brute-force times for different transaction sizes (Retail):\\n\")\n",
    "for n in transaction_sizes:\n",
    "    c_n = c_base * (n / n_base)\n",
    "    T_est = c_n * (2 ** m_retail)\n",
    "    print(f\"{n:>6d} transactions → {seconds_to_readable(T_est)}\")"
   ]
  },
  {
   "cell_type": "markdown",
   "id": "71aa5bc3",
   "metadata": {},
   "source": [
    "Basket"
   ]
  },
  {
   "cell_type": "code",
   "execution_count": 61,
   "id": "a25335db",
   "metadata": {},
   "outputs": [
    {
     "name": "stdout",
     "output_type": "stream",
     "text": [
      "Measured elapsed=3.0257s for m0=10, c=2.955e-03\n",
      "Basket estimated brute-force time: 5.53e+47 seconds\n",
      "\n",
      "Estimated Brute-force times for different transaction sizes (Basket):\n",
      "\n",
      "   500 transactions → 585699963052596560690124765197049528320.00years\n",
      "  1000 transactions → 1171399926105193121380249530394099056640.00years\n",
      "  2000 transactions → 2342799852210386242760499060788198113280.00years\n",
      "  4000 transactions → 4685599704420772485520998121576396226560.00years\n",
      "  8000 transactions → 9371199408841544971041996243152792453120.00years\n",
      " 14963 transactions → 17527657094312005648397958513063389822976.00years\n"
     ]
    }
   ],
   "source": [
    "sample_items = random.sample(list(basket_items), 10)\n",
    "counts, elapsed = brute_force_freq(transactions, sample_items)\n",
    "c = elapsed / (2 ** len(sample_items))\n",
    "print(f\"Measured elapsed={elapsed:.4f}s for m0={len(sample_items)}, c={c:.3e}\")\n",
    "\n",
    "m_basket = len(basket_items)\n",
    "T_est = c * (2 ** m_basket)\n",
    "print(f\"Basket estimated brute-force time: {T_est:.2e} seconds\")\n",
    "\n",
    "transaction_sizes = [500, 1000, 2000, 4000, 8000, 14963]\n",
    "c_base = c\n",
    "n_base = len(basket_df)\n",
    "print(\"\\nEstimated Brute-force times for different transaction sizes (Basket):\\n\")\n",
    "for n in transaction_sizes:\n",
    "    c_n = c_base * (n / n_base)\n",
    "    T_est = c_n * (2 ** m_basket)\n",
    "    print(f\"{n:>6d} transactions → {seconds_to_readable(T_est)}\")"
   ]
  },
  {
   "cell_type": "markdown",
   "id": "47689ba7",
   "metadata": {},
   "source": [
    "Groceries"
   ]
  },
  {
   "cell_type": "code",
   "execution_count": 132,
   "id": "c0bb058e",
   "metadata": {},
   "outputs": [
    {
     "name": "stdout",
     "output_type": "stream",
     "text": [
      "Measured elapsed=0.0026s for m0=10, c=2.587e-06\n",
      "Groceries estimated brute-force time: 4.84e+44 seconds\n",
      "\n",
      "Estimated Brute-force times for different transaction sizes (Groceries):\n",
      "\n",
      "   500 transactions → 1968448807794365879299447804827533312.00years\n",
      "  1000 transactions → 3936897615588731758598895609655066624.00years\n",
      "  2000 transactions → 7873795231177463517197791219310133248.00years\n",
      "  3898 transactions → 15346026905564881355864485340997746688.00years\n"
     ]
    }
   ],
   "source": [
    "sample_items = random.sample(list(groceries_items), 10)\n",
    "counts, elapsed = brute_force_freq(transactions, sample_items)\n",
    "c = elapsed / (2 ** len(sample_items))\n",
    "print(f\"Measured elapsed={elapsed:.4f}s for m0={len(sample_items)}, c={c:.3e}\")\n",
    "\n",
    "m_groceries = len(groceries_items)\n",
    "T_est = c * (2 ** m_groceries)\n",
    "print(f\"Groceries estimated brute-force time: {T_est:.2e} seconds\")\n",
    "\n",
    "transaction_sizes = [500, 1000, 2000, 3898]\n",
    "c_base = c\n",
    "n_base = len(gro_df)\n",
    "print(\"\\nEstimated Brute-force times for different transaction sizes (Groceries):\\n\")\n",
    "for n in transaction_sizes:\n",
    "    c_n = c_base * (n / n_base)\n",
    "    T_est = c_n * (2 ** m_groceries)\n",
    "    print(f\"{n:>6d} transactions → {seconds_to_readable(T_est)}\")"
   ]
  },
  {
   "cell_type": "markdown",
   "id": "cde9e858",
   "metadata": {},
   "source": [
    "Market"
   ]
  },
  {
   "cell_type": "code",
   "execution_count": 66,
   "id": "8324b2c1",
   "metadata": {},
   "outputs": [
    {
     "name": "stdout",
     "output_type": "stream",
     "text": [
      "Measured elapsed=4.1285s for m0=10, c=4.032e-03\n",
      "Market estimated brute-force time: 1.67e+32 seconds\n",
      "\n",
      "Estimated Brute-force times for different transaction sizes (Market):\n",
      "\n",
      "   500 transactions → 353989620656593315037184.00years\n",
      "  1000 transactions → 707979241313186630074368.00years\n",
      "  2000 transactions → 1415958482626373260148736.00years\n",
      "  4000 transactions → 2831916965252746520297472.00years\n",
      "  7501 transactions → 5310552289090212861050880.00years\n"
     ]
    }
   ],
   "source": [
    "sample_items = random.sample(list(market_items), 10)\n",
    "counts, elapsed = brute_force_freq(transactions, sample_items)\n",
    "c = elapsed / (2 ** len(sample_items))\n",
    "print(f\"Measured elapsed={elapsed:.4f}s for m0={len(sample_items)}, c={c:.3e}\")\n",
    "m_market = len(market_items)\n",
    "T_est = c * (2 ** m_market)\n",
    "print(f\"Market estimated brute-force time: {T_est:.2e} seconds\")\n",
    "\n",
    "transaction_sizes = [500, 1000, 2000, 4000, 7501]\n",
    "c_base = c\n",
    "n_base = len(market_df)\n",
    "\n",
    "print(\"\\nEstimated Brute-force times for different transaction sizes (Market):\\n\")\n",
    "for n in transaction_sizes:\n",
    "    c_n = c_base * (n / n_base)\n",
    "    T_est = c_n * (2 ** m_market)\n",
    "    print(f\"{n:>6d} transactions → {seconds_to_readable(T_est)}\")"
   ]
  }
 ],
 "metadata": {
  "kernelspec": {
   "display_name": "base",
   "language": "python",
   "name": "python3"
  },
  "language_info": {
   "codemirror_mode": {
    "name": "ipython",
    "version": 3
   },
   "file_extension": ".py",
   "mimetype": "text/x-python",
   "name": "python",
   "nbconvert_exporter": "python",
   "pygments_lexer": "ipython3",
   "version": "3.10.16"
  }
 },
 "nbformat": 4,
 "nbformat_minor": 5
}
